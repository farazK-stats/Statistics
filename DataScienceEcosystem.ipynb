{
 "cells": [
  {
   "cell_type": "markdown",
   "id": "44ed9321-fd5f-4bfb-b820-4d065777a330",
   "metadata": {},
   "source": [
    "# Data Science Tools and Ecosystem"
   ]
  },
  {
   "cell_type": "markdown",
   "id": "47e37c7a-b8f8-4425-a58a-5e35745e91fe",
   "metadata": {},
   "source": [
    "In this notebook, Data Science Tools and Ecosystem are summarized."
   ]
  },
  {
   "cell_type": "code",
   "execution_count": null,
   "id": "cf11b924-1c3d-45c7-a6f9-ac874b404551",
   "metadata": {},
   "outputs": [],
   "source": []
  },
  {
   "cell_type": "markdown",
   "id": "adada175-27dc-4071-9d41-2ff0c17d3898",
   "metadata": {},
   "source": [
    "Some of the popular languages that Data Scientists use are:\n",
    "1. Python\n",
    "2. R\n",
    "3. SQL\n",
    "4. Java\n"
   ]
  },
  {
   "cell_type": "code",
   "execution_count": null,
   "id": "b174c97d-677d-4731-af8e-55254179e590",
   "metadata": {},
   "outputs": [],
   "source": []
  },
  {
   "cell_type": "markdown",
   "id": "a7d01663-072d-450f-9736-fa33703d70d7",
   "metadata": {},
   "source": [
    "Some of the commonly used libraries used by Data Scientists include:\n",
    "1. Pandas\n",
    "2. NumPy\n",
    "3. Matplotlib\n",
    "4. Scikit-learn\n"
   ]
  },
  {
   "cell_type": "code",
   "execution_count": null,
   "id": "9df9a5e4-8a37-4358-b1f7-b172d4429cf4",
   "metadata": {},
   "outputs": [],
   "source": []
  },
  {
   "cell_type": "markdown",
   "id": "3ddcea94-1a1e-4d56-90d6-f77afbdeac13",
   "metadata": {},
   "source": [
    "| Data Science Tools |\n",
    "|--------------------|\n",
    "| Jupyter Notebook   |\n",
    "| RStudio            |\n",
    "| Apache Zeppelin    |\n"
   ]
  },
  {
   "cell_type": "code",
   "execution_count": null,
   "id": "e479ab06-23f7-4bee-a906-575ed0dadecf",
   "metadata": {},
   "outputs": [],
   "source": []
  },
  {
   "cell_type": "markdown",
   "id": "5c3280a7-c838-4f58-bb3f-7721ccd9312e",
   "metadata": {},
   "source": [
    "### Below are a few examples of evaluating arithmetic expressions in Python\n",
    "\n",
    "1. 5 + 3\n",
    "2. 10 - 4\n",
    "3. 6 * 7\n",
    "4. 20 / 4\n"
   ]
  },
  {
   "cell_type": "code",
   "execution_count": null,
   "id": "81508141-b81f-49da-85e6-557b970b203b",
   "metadata": {},
   "outputs": [],
   "source": []
  },
  {
   "cell_type": "code",
   "execution_count": 1,
   "id": "bf02761a-1bf9-4ff4-b2f9-7eecf3432686",
   "metadata": {},
   "outputs": [
    {
     "data": {
      "text/plain": [
       "17"
      ]
     },
     "execution_count": 1,
     "metadata": {},
     "output_type": "execute_result"
    }
   ],
   "source": [
    "# This is a simple arithmetic expression to multiply then add integers\n",
    "result = (3 * 4) + 5\n",
    "result\n"
   ]
  },
  {
   "cell_type": "code",
   "execution_count": null,
   "id": "72f1179c-5347-44d3-b9db-4acc7b0da6c7",
   "metadata": {},
   "outputs": [],
   "source": []
  },
  {
   "cell_type": "code",
   "execution_count": 2,
   "id": "eaaa1eef-2be2-4f05-874e-a9de0ead2b70",
   "metadata": {},
   "outputs": [
    {
     "data": {
      "text/plain": [
       "3.3333333333333335"
      ]
     },
     "execution_count": 2,
     "metadata": {},
     "output_type": "execute_result"
    }
   ],
   "source": [
    "# This will convert 200 minutes to hours by dividing by 60\n",
    "minutes = 200\n",
    "hours = minutes / 60\n",
    "hours\n"
   ]
  },
  {
   "cell_type": "code",
   "execution_count": null,
   "id": "eacb12bc-e3d2-49c2-85e6-370eecebb84b",
   "metadata": {},
   "outputs": [],
   "source": []
  },
  {
   "cell_type": "markdown",
   "id": "2f0d8bca-b4d9-4eb7-97c7-d3bebd618ed1",
   "metadata": {},
   "source": [
    "**Objectives:**\n",
    "\n",
    "- List popular languages for Data Science\n",
    "- List commonly used libraries in Data Science\n",
    "- Introduce arithmetic expressions in Python\n",
    "- Convert minutes to hours\n",
    "- Create tables to organize information\n"
   ]
  },
  {
   "cell_type": "code",
   "execution_count": null,
   "id": "7d5300bb-cea0-4f8c-a398-22c31a21a17c",
   "metadata": {},
   "outputs": [],
   "source": []
  },
  {
   "cell_type": "markdown",
   "id": "1922ccfb-f21a-4790-aaf5-ef719ff80844",
   "metadata": {},
   "source": [
    "## Author\n",
    "Faraz Kourejo"
   ]
  },
  {
   "cell_type": "code",
   "execution_count": null,
   "id": "d0d0fb28-b67a-49cf-9f36-ef6e438514a6",
   "metadata": {},
   "outputs": [],
   "source": []
  }
 ],
 "metadata": {
  "kernelspec": {
   "display_name": "Python 3 (ipykernel)",
   "language": "python",
   "name": "python3"
  },
  "language_info": {
   "codemirror_mode": {
    "name": "ipython",
    "version": 3
   },
   "file_extension": ".py",
   "mimetype": "text/x-python",
   "name": "python",
   "nbconvert_exporter": "python",
   "pygments_lexer": "ipython3",
   "version": "3.10.7"
  }
 },
 "nbformat": 4,
 "nbformat_minor": 5
}
