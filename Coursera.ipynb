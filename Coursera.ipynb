{
 "cells": [
  {
   "cell_type": "code",
   "execution_count": 7,
   "id": "8fea89d2-eecc-4cf5-86f3-8711de137a4d",
   "metadata": {},
   "outputs": [],
   "source": [
    "import pandas as pd\n",
    "import numpy as np\n",
    "import pandas as pd\n",
    "import seaborn as sns\n",
    "import matplotlib.pyplot as pyplot\n",
    "import scipy.stats\n",
    "import statsmodels.api as sm\n",
    "from statsmodels.formula.api import ols"
   ]
  },
  {
   "cell_type": "code",
   "execution_count": 8,
   "id": "4cc242fb-ac3e-4adb-bf0a-867be8d7128b",
   "metadata": {},
   "outputs": [],
   "source": [
    "boston_url = 'https://cf-courses-data.s3.us.cloud-object-storage.appdomain.cloud/IBMDeveloperSkillsNetwork-ST0151EN-SkillsNetwork/labs/boston_housing.csv'\n",
    "boston_df=pd.read_csv(boston_url)"
   ]
  },
  {
   "cell_type": "code",
   "execution_count": 5,
   "id": "4f419fa6-6b9a-45ab-a79f-d616632f5873",
   "metadata": {},
   "outputs": [
    {
     "data": {
      "text/html": [
       "<div>\n",
       "<style scoped>\n",
       "    .dataframe tbody tr th:only-of-type {\n",
       "        vertical-align: middle;\n",
       "    }\n",
       "\n",
       "    .dataframe tbody tr th {\n",
       "        vertical-align: top;\n",
       "    }\n",
       "\n",
       "    .dataframe thead th {\n",
       "        text-align: right;\n",
       "    }\n",
       "</style>\n",
       "<table border=\"1\" class=\"dataframe\">\n",
       "  <thead>\n",
       "    <tr style=\"text-align: right;\">\n",
       "      <th></th>\n",
       "      <th>Unnamed: 0</th>\n",
       "      <th>CRIM</th>\n",
       "      <th>ZN</th>\n",
       "      <th>INDUS</th>\n",
       "      <th>CHAS</th>\n",
       "      <th>NOX</th>\n",
       "      <th>RM</th>\n",
       "      <th>AGE</th>\n",
       "      <th>DIS</th>\n",
       "      <th>RAD</th>\n",
       "      <th>TAX</th>\n",
       "      <th>PTRATIO</th>\n",
       "      <th>LSTAT</th>\n",
       "      <th>MEDV</th>\n",
       "    </tr>\n",
       "  </thead>\n",
       "  <tbody>\n",
       "    <tr>\n",
       "      <th>0</th>\n",
       "      <td>0</td>\n",
       "      <td>0.00632</td>\n",
       "      <td>18.0</td>\n",
       "      <td>2.31</td>\n",
       "      <td>0.0</td>\n",
       "      <td>0.538</td>\n",
       "      <td>6.575</td>\n",
       "      <td>65.2</td>\n",
       "      <td>4.0900</td>\n",
       "      <td>1.0</td>\n",
       "      <td>296.0</td>\n",
       "      <td>15.3</td>\n",
       "      <td>4.98</td>\n",
       "      <td>24.0</td>\n",
       "    </tr>\n",
       "    <tr>\n",
       "      <th>1</th>\n",
       "      <td>1</td>\n",
       "      <td>0.02731</td>\n",
       "      <td>0.0</td>\n",
       "      <td>7.07</td>\n",
       "      <td>0.0</td>\n",
       "      <td>0.469</td>\n",
       "      <td>6.421</td>\n",
       "      <td>78.9</td>\n",
       "      <td>4.9671</td>\n",
       "      <td>2.0</td>\n",
       "      <td>242.0</td>\n",
       "      <td>17.8</td>\n",
       "      <td>9.14</td>\n",
       "      <td>21.6</td>\n",
       "    </tr>\n",
       "    <tr>\n",
       "      <th>2</th>\n",
       "      <td>2</td>\n",
       "      <td>0.02729</td>\n",
       "      <td>0.0</td>\n",
       "      <td>7.07</td>\n",
       "      <td>0.0</td>\n",
       "      <td>0.469</td>\n",
       "      <td>7.185</td>\n",
       "      <td>61.1</td>\n",
       "      <td>4.9671</td>\n",
       "      <td>2.0</td>\n",
       "      <td>242.0</td>\n",
       "      <td>17.8</td>\n",
       "      <td>4.03</td>\n",
       "      <td>34.7</td>\n",
       "    </tr>\n",
       "    <tr>\n",
       "      <th>3</th>\n",
       "      <td>3</td>\n",
       "      <td>0.03237</td>\n",
       "      <td>0.0</td>\n",
       "      <td>2.18</td>\n",
       "      <td>0.0</td>\n",
       "      <td>0.458</td>\n",
       "      <td>6.998</td>\n",
       "      <td>45.8</td>\n",
       "      <td>6.0622</td>\n",
       "      <td>3.0</td>\n",
       "      <td>222.0</td>\n",
       "      <td>18.7</td>\n",
       "      <td>2.94</td>\n",
       "      <td>33.4</td>\n",
       "    </tr>\n",
       "    <tr>\n",
       "      <th>4</th>\n",
       "      <td>4</td>\n",
       "      <td>0.06905</td>\n",
       "      <td>0.0</td>\n",
       "      <td>2.18</td>\n",
       "      <td>0.0</td>\n",
       "      <td>0.458</td>\n",
       "      <td>7.147</td>\n",
       "      <td>54.2</td>\n",
       "      <td>6.0622</td>\n",
       "      <td>3.0</td>\n",
       "      <td>222.0</td>\n",
       "      <td>18.7</td>\n",
       "      <td>5.33</td>\n",
       "      <td>36.2</td>\n",
       "    </tr>\n",
       "    <tr>\n",
       "      <th>...</th>\n",
       "      <td>...</td>\n",
       "      <td>...</td>\n",
       "      <td>...</td>\n",
       "      <td>...</td>\n",
       "      <td>...</td>\n",
       "      <td>...</td>\n",
       "      <td>...</td>\n",
       "      <td>...</td>\n",
       "      <td>...</td>\n",
       "      <td>...</td>\n",
       "      <td>...</td>\n",
       "      <td>...</td>\n",
       "      <td>...</td>\n",
       "      <td>...</td>\n",
       "    </tr>\n",
       "    <tr>\n",
       "      <th>501</th>\n",
       "      <td>501</td>\n",
       "      <td>0.06263</td>\n",
       "      <td>0.0</td>\n",
       "      <td>11.93</td>\n",
       "      <td>0.0</td>\n",
       "      <td>0.573</td>\n",
       "      <td>6.593</td>\n",
       "      <td>69.1</td>\n",
       "      <td>2.4786</td>\n",
       "      <td>1.0</td>\n",
       "      <td>273.0</td>\n",
       "      <td>21.0</td>\n",
       "      <td>9.67</td>\n",
       "      <td>22.4</td>\n",
       "    </tr>\n",
       "    <tr>\n",
       "      <th>502</th>\n",
       "      <td>502</td>\n",
       "      <td>0.04527</td>\n",
       "      <td>0.0</td>\n",
       "      <td>11.93</td>\n",
       "      <td>0.0</td>\n",
       "      <td>0.573</td>\n",
       "      <td>6.120</td>\n",
       "      <td>76.7</td>\n",
       "      <td>2.2875</td>\n",
       "      <td>1.0</td>\n",
       "      <td>273.0</td>\n",
       "      <td>21.0</td>\n",
       "      <td>9.08</td>\n",
       "      <td>20.6</td>\n",
       "    </tr>\n",
       "    <tr>\n",
       "      <th>503</th>\n",
       "      <td>503</td>\n",
       "      <td>0.06076</td>\n",
       "      <td>0.0</td>\n",
       "      <td>11.93</td>\n",
       "      <td>0.0</td>\n",
       "      <td>0.573</td>\n",
       "      <td>6.976</td>\n",
       "      <td>91.0</td>\n",
       "      <td>2.1675</td>\n",
       "      <td>1.0</td>\n",
       "      <td>273.0</td>\n",
       "      <td>21.0</td>\n",
       "      <td>5.64</td>\n",
       "      <td>23.9</td>\n",
       "    </tr>\n",
       "    <tr>\n",
       "      <th>504</th>\n",
       "      <td>504</td>\n",
       "      <td>0.10959</td>\n",
       "      <td>0.0</td>\n",
       "      <td>11.93</td>\n",
       "      <td>0.0</td>\n",
       "      <td>0.573</td>\n",
       "      <td>6.794</td>\n",
       "      <td>89.3</td>\n",
       "      <td>2.3889</td>\n",
       "      <td>1.0</td>\n",
       "      <td>273.0</td>\n",
       "      <td>21.0</td>\n",
       "      <td>6.48</td>\n",
       "      <td>22.0</td>\n",
       "    </tr>\n",
       "    <tr>\n",
       "      <th>505</th>\n",
       "      <td>505</td>\n",
       "      <td>0.04741</td>\n",
       "      <td>0.0</td>\n",
       "      <td>11.93</td>\n",
       "      <td>0.0</td>\n",
       "      <td>0.573</td>\n",
       "      <td>6.030</td>\n",
       "      <td>80.8</td>\n",
       "      <td>2.5050</td>\n",
       "      <td>1.0</td>\n",
       "      <td>273.0</td>\n",
       "      <td>21.0</td>\n",
       "      <td>7.88</td>\n",
       "      <td>11.9</td>\n",
       "    </tr>\n",
       "  </tbody>\n",
       "</table>\n",
       "<p>506 rows × 14 columns</p>\n",
       "</div>"
      ],
      "text/plain": [
       "     Unnamed: 0     CRIM    ZN  INDUS  CHAS    NOX     RM   AGE     DIS  RAD   \n",
       "0             0  0.00632  18.0   2.31   0.0  0.538  6.575  65.2  4.0900  1.0  \\\n",
       "1             1  0.02731   0.0   7.07   0.0  0.469  6.421  78.9  4.9671  2.0   \n",
       "2             2  0.02729   0.0   7.07   0.0  0.469  7.185  61.1  4.9671  2.0   \n",
       "3             3  0.03237   0.0   2.18   0.0  0.458  6.998  45.8  6.0622  3.0   \n",
       "4             4  0.06905   0.0   2.18   0.0  0.458  7.147  54.2  6.0622  3.0   \n",
       "..          ...      ...   ...    ...   ...    ...    ...   ...     ...  ...   \n",
       "501         501  0.06263   0.0  11.93   0.0  0.573  6.593  69.1  2.4786  1.0   \n",
       "502         502  0.04527   0.0  11.93   0.0  0.573  6.120  76.7  2.2875  1.0   \n",
       "503         503  0.06076   0.0  11.93   0.0  0.573  6.976  91.0  2.1675  1.0   \n",
       "504         504  0.10959   0.0  11.93   0.0  0.573  6.794  89.3  2.3889  1.0   \n",
       "505         505  0.04741   0.0  11.93   0.0  0.573  6.030  80.8  2.5050  1.0   \n",
       "\n",
       "       TAX  PTRATIO  LSTAT  MEDV  \n",
       "0    296.0     15.3   4.98  24.0  \n",
       "1    242.0     17.8   9.14  21.6  \n",
       "2    242.0     17.8   4.03  34.7  \n",
       "3    222.0     18.7   2.94  33.4  \n",
       "4    222.0     18.7   5.33  36.2  \n",
       "..     ...      ...    ...   ...  \n",
       "501  273.0     21.0   9.67  22.4  \n",
       "502  273.0     21.0   9.08  20.6  \n",
       "503  273.0     21.0   5.64  23.9  \n",
       "504  273.0     21.0   6.48  22.0  \n",
       "505  273.0     21.0   7.88  11.9  \n",
       "\n",
       "[506 rows x 14 columns]"
      ]
     },
     "execution_count": 5,
     "metadata": {},
     "output_type": "execute_result"
    }
   ],
   "source": []
  },
  {
   "cell_type": "markdown",
   "id": "e8d26db9-61c3-49e3-ae7e-2123713c545a",
   "metadata": {},
   "source": [
    "# 1. T-Test for Independent Samples"
   ]
  },
  {
   "cell_type": "markdown",
   "id": "e91a187a-e7c5-42fb-9a47-9b53331694f5",
   "metadata": {},
   "source": [
    "Question: Is there a significant difference in the median value of houses bounded by the Charles River (CHAS)?"
   ]
  },
  {
   "cell_type": "code",
   "execution_count": 9,
   "id": "a63cc47f-60d0-494a-ace8-77288b9a6640",
   "metadata": {},
   "outputs": [
    {
     "name": "stdout",
     "output_type": "stream",
     "text": [
      "   CHAS  MEDV\n",
      "0   0.0  24.0\n",
      "1   0.0  21.6\n",
      "2   0.0  34.7\n",
      "3   0.0  33.4\n",
      "4   0.0  36.2\n"
     ]
    }
   ],
   "source": [
    "print(boston_df[['CHAS', 'MEDV']].head())"
   ]
  },
  {
   "cell_type": "markdown",
   "id": "6cf35dac-3b1d-4b94-aff4-69296fc2f2f3",
   "metadata": {},
   "source": [
    "Separate Groups Based on CHAS"
   ]
  },
  {
   "cell_type": "code",
   "execution_count": 12,
   "id": "c1597c04-422c-4cfd-93d9-71d063239203",
   "metadata": {},
   "outputs": [],
   "source": [
    "group1 = boston_df[boston_df['CHAS'] == 1]['MEDV']  # Houses near Charles River\n",
    "group2 = boston_df[boston_df['CHAS'] == 0]['MEDV']  # Houses not near Charles River"
   ]
  },
  {
   "cell_type": "markdown",
   "id": "9e099285-5e02-4ec8-82eb-ef2218af275a",
   "metadata": {},
   "source": [
    "Perform Normality Test (Shapiro Test):"
   ]
  },
  {
   "cell_type": "code",
   "execution_count": 14,
   "id": "2127ed26-6e2b-4e38-8d59-04b9689f5eb0",
   "metadata": {},
   "outputs": [
    {
     "name": "stdout",
     "output_type": "stream",
     "text": [
      "Shapiro Test for group1 (CHAS=1): ShapiroResult(statistic=0.8359234929084778, pvalue=0.00011230999371036887)\n",
      "Shapiro Test for group2 (CHAS=0): ShapiroResult(statistic=0.9282609224319458, pvalue=3.1142707905768355e-14)\n"
     ]
    }
   ],
   "source": [
    "print(\"Shapiro Test for group1 (CHAS=1):\", scipy.stats.shapiro(group1))\n",
    "print(\"Shapiro Test for group2 (CHAS=0):\", scipy.stats.shapiro(group2))\n"
   ]
  },
  {
   "cell_type": "markdown",
   "id": "84cb84d1-5857-486c-b6c0-2f6e18df4a28",
   "metadata": {},
   "source": [
    "Check Variance Equality (Levene's Test):"
   ]
  },
  {
   "cell_type": "code",
   "execution_count": 15,
   "id": "eab94dff-8132-4a34-a871-4a2cf60d3a25",
   "metadata": {},
   "outputs": [
    {
     "name": "stdout",
     "output_type": "stream",
     "text": [
      "Levene's Test for equality of variances: LeveneResult(statistic=4.590342218715871, pvalue=0.03263097600633006)\n"
     ]
    }
   ],
   "source": [
    "print(\"Levene's Test for equality of variances:\", scipy.stats.levene(group1, group2))\n"
   ]
  },
  {
   "cell_type": "markdown",
   "id": "c504a3f5-0420-4e91-a397-1f7d2767bf12",
   "metadata": {},
   "source": [
    "Perform the T-Test:"
   ]
  },
  {
   "cell_type": "code",
   "execution_count": 16,
   "id": "dbd7974c-01ba-4596-87cd-9642556261cf",
   "metadata": {},
   "outputs": [
    {
     "name": "stdout",
     "output_type": "stream",
     "text": [
      "T-test results: t-stat = 3.996437466090509 , p-value = 7.390623170519905e-05\n"
     ]
    }
   ],
   "source": [
    "t_stat, p_value = scipy.stats.ttest_ind(group1, group2, equal_var=True)  # Change to `equal_var=False` if Levene fails\n",
    "print(\"T-test results: t-stat =\", t_stat, \", p-value =\", p_value)\n"
   ]
  },
  {
   "cell_type": "markdown",
   "id": "c641e486-7ba6-433d-aa2d-b76a1500df7e",
   "metadata": {},
   "source": [
    "Conclusion: p-value is less than 0.05. So, we conclude there is a significant difference."
   ]
  },
  {
   "cell_type": "markdown",
   "id": "d1fbaf31-c212-4a41-afa8-7941778f5a4d",
   "metadata": {},
   "source": [
    "# 2. ANOVA"
   ]
  },
  {
   "cell_type": "markdown",
   "id": "88063fb5-7cc7-43fc-bc22-b5453d36a070",
   "metadata": {},
   "source": [
    "Question: Is there a difference in Median values of houses (MEDV) for each proportion of owner occupied units built prior to 1940 (AGE)? "
   ]
  },
  {
   "cell_type": "markdown",
   "id": "618965f9-41a7-453f-ae7a-d81356a62455",
   "metadata": {},
   "source": [
    "Create AGE Bins:"
   ]
  },
  {
   "cell_type": "code",
   "execution_count": 10,
   "id": "24357065-727c-4bb7-916d-454ee4c055f3",
   "metadata": {},
   "outputs": [],
   "source": [
    "bins = [0, 20, 40, 60, 80, 100]\n",
    "labels = ['0-20', '21-40', '41-60', '61-80', '81-100']\n",
    "boston_df['AGE_group'] = pd.cut(boston_df['AGE'], bins=bins, labels=labels)"
   ]
  },
  {
   "cell_type": "markdown",
   "id": "63fe02c0-7dd2-4d2b-9f75-8176580b4f2e",
   "metadata": {},
   "source": [
    "Perform ANOVA"
   ]
  },
  {
   "cell_type": "code",
   "execution_count": 11,
   "id": "61ad7a45-5f06-43db-b113-b8b6debb2154",
   "metadata": {},
   "outputs": [
    {
     "name": "stdout",
     "output_type": "stream",
     "text": [
      "                    sum_sq     df          F        PR(>F)\n",
      "C(AGE_group)   5889.141777    4.0  20.029107  2.582814e-15\n",
      "Residual      36827.153638  501.0        NaN           NaN\n"
     ]
    }
   ],
   "source": [
    "model = ols('MEDV ~ C(AGE_group)', data=boston_df).fit()\n",
    "anova_table = sm.stats.anova_lm(model, typ=2)\n",
    "print(anova_table)"
   ]
  },
  {
   "cell_type": "markdown",
   "id": "46e2567e-5641-4fde-925c-a91fbec06ab8",
   "metadata": {},
   "source": [
    "Conclusion: p-value is less than 0.05, there is significant difference in Median valuesof houses (MEDV)\n",
    "for each proportion of owner occupied units built prior to 1940 (AGE)"
   ]
  },
  {
   "cell_type": "markdown",
   "id": "562265d6-9547-4853-8bcc-45c036dfc66c",
   "metadata": {},
   "source": [
    "# 3. Pearson Correlation"
   ]
  },
  {
   "cell_type": "markdown",
   "id": "39e50c14-f59f-4c72-9171-ac5a00a4214b",
   "metadata": {},
   "source": [
    "Question: Can we conclude that there is no relationship between Nitric oxide concentrations and proportion of non-retail business acres per town?"
   ]
  },
  {
   "cell_type": "markdown",
   "id": "f6720f85-f5b8-4b80-a2a3-c4dc8a6ac5de",
   "metadata": {},
   "source": [
    "Inspect the Variables"
   ]
  },
  {
   "cell_type": "code",
   "execution_count": 12,
   "id": "06094c53-2b65-41a9-97a3-74362e9a449d",
   "metadata": {},
   "outputs": [
    {
     "name": "stdout",
     "output_type": "stream",
     "text": [
      "     NOX  INDUS\n",
      "0  0.538   2.31\n",
      "1  0.469   7.07\n",
      "2  0.469   7.07\n",
      "3  0.458   2.18\n",
      "4  0.458   2.18\n"
     ]
    }
   ],
   "source": [
    "print(boston_df[['NOX', 'INDUS']].head())"
   ]
  },
  {
   "cell_type": "markdown",
   "id": "43a9e5d4-7585-4530-8d11-26915c32e0d0",
   "metadata": {},
   "source": [
    "Visualize the Relationship"
   ]
  },
  {
   "cell_type": "code",
   "execution_count": 13,
   "id": "aa57194c-6eec-4e61-856a-27c0335d2c50",
   "metadata": {},
   "outputs": [
    {
     "data": {
      "image/png": "[encoded data removed]",
      "text/plain": [
       "<Figure size 640x480 with 1 Axes>"
      ]
     },
     "metadata": {},
     "output_type": "display_data"
    }
   ],
   "source": [
    "sns.scatterplot(x='NOX', y='INDUS', data=boston_df)\n",
    "pyplot.show()"
   ]
  },
  {
   "cell_type": "markdown",
   "id": "f25af159-dff5-43c4-85d9-c6c3455d928b",
   "metadata": {},
   "source": [
    "Perform Pearson Correlation"
   ]
  },
  {
   "cell_type": "code",
   "execution_count": 14,
   "id": "49f4f72a-e4b1-43de-aedf-8246b7f44256",
   "metadata": {},
   "outputs": [
    {
     "name": "stdout",
     "output_type": "stream",
     "text": [
      "Pearson Correlation: r = 0.7636514469209156 , p-value = 7.913361061235544e-98\n"
     ]
    }
   ],
   "source": [
    "corr, p_value = scipy.stats.pearsonr(boston_df['NOX'], boston_df['INDUS'])\n",
    "print(\"Pearson Correlation: r =\", corr, \", p-value =\", p_value)"
   ]
  },
  {
   "cell_type": "markdown",
   "id": "7fde1391-7746-4a00-b1cb-b464d1fd07e2",
   "metadata": {},
   "source": [
    "Conclusion: p-value is less than 0.05, so there is a significant relationship between Nitric oxide concentrations and proportion of non-retail business acres per town."
   ]
  },
  {
   "cell_type": "markdown",
   "id": "138910da-f84f-4ced-907c-78c1fe894f57",
   "metadata": {},
   "source": [
    "# 4. Regression Analysis"
   ]
  },
  {
   "cell_type": "markdown",
   "id": "c4673e31-d726-4ded-996e-06e851f466b7",
   "metadata": {},
   "source": [
    "Question: What is the impact of an additional weighted distance  to the five Boston employment centres on the median value of owner occupied homes?"
   ]
  },
  {
   "cell_type": "markdown",
   "id": "300fdf33-eb88-4c4f-8cc9-96b7db1c8554",
   "metadata": {},
   "source": [
    "Inspect Variables"
   ]
  },
  {
   "cell_type": "code",
   "execution_count": 15,
   "id": "62422fab-a155-4c84-8296-14e19f7396de",
   "metadata": {},
   "outputs": [
    {
     "name": "stdout",
     "output_type": "stream",
     "text": [
      "      DIS  MEDV\n",
      "0  4.0900  24.0\n",
      "1  4.9671  21.6\n",
      "2  4.9671  34.7\n",
      "3  6.0622  33.4\n",
      "4  6.0622  36.2\n"
     ]
    }
   ],
   "source": [
    "print(boston_df[['DIS', 'MEDV']].head())"
   ]
  },
  {
   "cell_type": "markdown",
   "id": "330d247d-311c-49ec-9c52-947b64af9bc4",
   "metadata": {},
   "source": [
    "Fit the Regression Model"
   ]
  },
  {
   "cell_type": "code",
   "execution_count": 16,
   "id": "b2b50481-0be3-4a02-afbb-6b46cef42c03",
   "metadata": {},
   "outputs": [
    {
     "name": "stdout",
     "output_type": "stream",
     "text": [
      "                            OLS Regression Results                            \n",
      "==============================================================================\n",
      "Dep. Variable:                   MEDV   R-squared:                       0.062\n",
      "Model:                            OLS   Adj. R-squared:                  0.061\n",
      "Method:                 Least Squares   F-statistic:                     33.58\n",
      "Date:                Sun, 29 Dec 2024   Prob (F-statistic):           1.21e-08\n",
      "Time:                        23:41:23   Log-Likelihood:                -1823.9\n",
      "No. Observations:                 506   AIC:                             3652.\n",
      "Df Residuals:                     504   BIC:                             3660.\n",
      "Df Model:                           1                                         \n",
      "Covariance Type:            nonrobust                                         \n",
      "==============================================================================\n",
      "                 coef    std err          t      P>|t|      [0.025      0.975]\n",
      "------------------------------------------------------------------------------\n",
      "Intercept     18.3901      0.817     22.499      0.000      16.784      19.996\n",
      "DIS            1.0916      0.188      5.795      0.000       0.722       1.462\n",
      "==============================================================================\n",
      "Omnibus:                      139.779   Durbin-Watson:                   0.570\n",
      "Prob(Omnibus):                  0.000   Jarque-Bera (JB):              305.104\n",
      "Skew:                           1.466   Prob(JB):                     5.59e-67\n",
      "Kurtosis:                       5.424   Cond. No.                         9.32\n",
      "==============================================================================\n",
      "\n",
      "Notes:\n",
      "[1] Standard Errors assume that the covariance matrix of the errors is correctly specified.\n"
     ]
    }
   ],
   "source": [
    "model = ols('MEDV ~ DIS', data=boston_df).fit()\n",
    "print(model.summary())"
   ]
  },
  {
   "cell_type": "code",
   "execution_count": null,
   "id": "8a6d8b40-b6b7-4c3b-845d-a956036f87fd",
   "metadata": {},
   "outputs": [],
   "source": []
  },
  {
   "cell_type": "markdown",
   "id": "4d1dea2f-8923-4dae-9089-44cb353f42f0",
   "metadata": {},
   "source": [
    "Visualize the Regression"
   ]
  },
  {
   "cell_type": "code",
   "execution_count": 17,
   "id": "e8d5baac-7471-41c0-8d37-fd89c352e231",
   "metadata": {},
   "outputs": [
    {
     "data": {
      "image/png": "[encoded data removed]",
      "text/plain": [
       "<Figure size 640x480 with 1 Axes>"
      ]
     },
     "metadata": {},
     "output_type": "display_data"
    }
   ],
   "source": [
    "sns.regplot(x='DIS', y='MEDV', data=boston_df, line_kws={'color': 'red'})\n",
    "pyplot.show()"
   ]
  },
  {
   "cell_type": "markdown",
   "id": "2c5a27ca-7220-4cda-b8bf-96572e920cb9",
   "metadata": {},
   "source": [
    "Conclusion: Since the p-value is statistically significant, you can confidently say that DIS  has a significant positive relationship with MEDV.  So, as houses are farther from Boston employment centers, their median value tends to increase slightly."
   ]
  },
  {
   "cell_type": "code",
   "execution_count": null,
   "id": "2d519a65-c1f1-4573-a35a-cceb4e970fff",
   "metadata": {},
   "outputs": [],
   "source": []
  }
 ],
 "metadata": {
  "kernelspec": {
   "display_name": "Python 3 (ipykernel)",
   "language": "python",
   "name": "python3"
  },
  "language_info": {
   "codemirror_mode": {
    "name": "ipython",
    "version": 3
   },
   "file_extension": ".py",
   "mimetype": "text/x-python",
   "name": "python",
   "nbconvert_exporter": "python",
   "pygments_lexer": "ipython3",
   "version": "3.10.7"
  }
 },
 "nbformat": 4,
 "nbformat_minor": 5
}
